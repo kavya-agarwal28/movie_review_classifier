{
  "nbformat": 4,
  "nbformat_minor": 0,
  "metadata": {
    "colab": {
      "name": "Movie reviews classifier.ipynb",
      "provenance": [],
      "collapsed_sections": []
    },
    "kernelspec": {
      "name": "python3",
      "display_name": "Python 3"
    }
  },
  "cells": [
    {
      "cell_type": "code",
      "metadata": {
        "id": "Wn6hU6wXA1tS",
        "colab_type": "code",
        "outputId": "dc6a6563-9425-42e0-a8d9-43d2a6b4e3c6",
        "colab": {
          "base_uri": "https://localhost:8080/",
          "height": 196
        }
      },
      "source": [
        "import nltk\n",
        "nltk.download('movie_reviews')\n",
        "nltk.download('stopwords')\n",
        "nltk.download('averaged_perceptron_tagger')\n",
        "nltk.download('wordnet')"
      ],
      "execution_count": 1,
      "outputs": [
        {
          "output_type": "stream",
          "text": [
            "[nltk_data] Downloading package movie_reviews to /root/nltk_data...\n",
            "[nltk_data]   Package movie_reviews is already up-to-date!\n",
            "[nltk_data] Downloading package stopwords to /root/nltk_data...\n",
            "[nltk_data]   Package stopwords is already up-to-date!\n",
            "[nltk_data] Downloading package averaged_perceptron_tagger to\n",
            "[nltk_data]     /root/nltk_data...\n",
            "[nltk_data]   Package averaged_perceptron_tagger is already up-to-\n",
            "[nltk_data]       date!\n",
            "[nltk_data] Downloading package wordnet to /root/nltk_data...\n",
            "[nltk_data]   Package wordnet is already up-to-date!\n"
          ],
          "name": "stdout"
        },
        {
          "output_type": "execute_result",
          "data": {
            "text/plain": [
              "True"
            ]
          },
          "metadata": {
            "tags": []
          },
          "execution_count": 1
        }
      ]
    },
    {
      "cell_type": "code",
      "metadata": {
        "id": "S4fuTvXnARLq",
        "colab_type": "code",
        "colab": {}
      },
      "source": [
        "from nltk.corpus import movie_reviews\n",
        "from nltk.corpus import stopwords\n",
        "from nltk import pos_tag\n",
        "from nltk.corpus import wordnet\n",
        "from nltk.stem import WordNetLemmatizer\n",
        "\n",
        "import random\n",
        "import string\n",
        "\n",
        "from sklearn.feature_extraction.text import CountVectorizer\n",
        "from sklearn.model_selection import train_test_split\n",
        "from sklearn.model_selection import GridSearchCV"
      ],
      "execution_count": 0,
      "outputs": []
    },
    {
      "cell_type": "code",
      "metadata": {
        "id": "35ovxMDZAigZ",
        "colab_type": "code",
        "colab": {}
      },
      "source": [
        "data = []\n",
        "for category in movie_reviews.categories():\n",
        "    for review in movie_reviews.fileids(category):\n",
        "        data.append((movie_reviews.words(review), category))\n",
        "\n",
        "random.shuffle(data)"
      ],
      "execution_count": 0,
      "outputs": []
    },
    {
      "cell_type": "code",
      "metadata": {
        "id": "a9_clFvnBHSY",
        "colab_type": "code",
        "colab": {}
      },
      "source": [
        "stop_words = set(stopwords.words('english'))\n",
        "stop_words.update(list(string.punctuation))"
      ],
      "execution_count": 0,
      "outputs": []
    },
    {
      "cell_type": "code",
      "metadata": {
        "id": "AsMMwUiKHEF0",
        "colab_type": "code",
        "colab": {}
      },
      "source": [
        "lemmatizer = WordNetLemmatizer()\n",
        "\n",
        "def pos_for_lemmatizer(pos):\n",
        "    if pos.startswith('J'):\n",
        "        return wordnet.ADJ\n",
        "    elif pos.startswith('V'):\n",
        "        return wordnet.VERB\n",
        "    elif pos.startswith('N'):\n",
        "        return wordnet.NOUN\n",
        "    elif pos.startswith('R'):\n",
        "        return wordnet.ADV\n",
        "    else:\n",
        "        return wordnet.NOUN"
      ],
      "execution_count": 0,
      "outputs": []
    },
    {
      "cell_type": "code",
      "metadata": {
        "id": "JSPvwTvACzRC",
        "colab_type": "code",
        "colab": {}
      },
      "source": [
        "def clean_reviews(review_words):\n",
        "    clean_review_words = []\n",
        "    for word in review_words:\n",
        "        if word.lower() not in stop_words:\n",
        "            pos = pos_for_lemmatizer(pos_tag([word])[0][1])\n",
        "            clean_word = lemmatizer.lemmatize(word, pos=pos)\n",
        "            clean_review_words.append(clean_word.lower())\n",
        "    return clean_review_words"
      ],
      "execution_count": 0,
      "outputs": []
    },
    {
      "cell_type": "code",
      "metadata": {
        "id": "HxQIGUsvMig4",
        "colab_type": "code",
        "colab": {}
      },
      "source": [
        "data = [(clean_reviews(review_words), category) for review_words, category in data]"
      ],
      "execution_count": 0,
      "outputs": []
    },
    {
      "cell_type": "code",
      "metadata": {
        "id": "PUCJRj1JM4TE",
        "colab_type": "code",
        "colab": {}
      },
      "source": [
        "reviews = [\" \".join(review_words) for review_words, category in data]\n",
        "categories = [category for review_words, category in data]"
      ],
      "execution_count": 0,
      "outputs": []
    },
    {
      "cell_type": "code",
      "metadata": {
        "id": "t1P73KbyNoH5",
        "colab_type": "code",
        "colab": {}
      },
      "source": [
        "x_train, x_test, y_train, y_test = train_test_split(reviews, categories)"
      ],
      "execution_count": 0,
      "outputs": []
    },
    {
      "cell_type": "code",
      "metadata": {
        "id": "8Idz0hmVeN2N",
        "colab_type": "code",
        "colab": {}
      },
      "source": [
        "count_vec = CountVectorizer(max_features=2000, ngram_range=(1,2), max_df=0.75)\n",
        "x_train = count_vec.fit_transform(x_train)\n",
        "x_test = count_vec.transform(x_test)"
      ],
      "execution_count": 0,
      "outputs": []
    },
    {
      "cell_type": "code",
      "metadata": {
        "id": "i6CtSbT9jTF-",
        "colab_type": "code",
        "colab": {}
      },
      "source": [
        "# Uncomment to see 'feature names' and 'X'\n",
        "# print(count_vec.get_feature_names(), end=\"\\n\\n\")\n",
        "# print(x_train.todense(), end=\"\\n\\n\")\n",
        "# print(x_test.todense())"
      ],
      "execution_count": 0,
      "outputs": []
    },
    {
      "cell_type": "code",
      "metadata": {
        "id": "bKi-GV65jhiC",
        "colab_type": "code",
        "outputId": "523365cb-ed02-4fb5-a0d6-44a13b471c9d",
        "colab": {
          "base_uri": "https://localhost:8080/",
          "height": 50
        }
      },
      "source": [
        "from sklearn.ensemble import RandomForestClassifier\n",
        "rfc = RandomForestClassifier()\n",
        "rfc.fit(x_train, y_train)\n",
        "print(\"Score on training data: \" + str(rfc.score(x_train, y_train)))\n",
        "print(\"Score on testing data: \" + str(rfc.score(x_test, y_test)))"
      ],
      "execution_count": 12,
      "outputs": [
        {
          "output_type": "stream",
          "text": [
            "Score on training data: 1.0\n",
            "Score on testing data: 0.838\n"
          ],
          "name": "stdout"
        }
      ]
    },
    {
      "cell_type": "code",
      "metadata": {
        "id": "j0lhrMgVo6fu",
        "colab_type": "code",
        "outputId": "52ccffc9-0247-413d-f70f-941522b91585",
        "colab": {
          "base_uri": "https://localhost:8080/",
          "height": 50
        }
      },
      "source": [
        "from sklearn.naive_bayes import MultinomialNB\n",
        "gnb = MultinomialNB()\n",
        "gnb.fit(x_train, y_train)\n",
        "print(\"Score on training data: \" + str(gnb.score(x_train, y_train)))\n",
        "print(\"Score on testing data: \" + str(gnb.score(x_test, y_test)))"
      ],
      "execution_count": 13,
      "outputs": [
        {
          "output_type": "stream",
          "text": [
            "Score on training data: 0.884\n",
            "Score on testing data: 0.834\n"
          ],
          "name": "stdout"
        }
      ]
    },
    {
      "cell_type": "code",
      "metadata": {
        "id": "FCgssr2WrY2E",
        "colab_type": "code",
        "colab": {}
      },
      "source": [
        "from sklearn.svm import SVC\n",
        "svc = SVC(C=100, gamma=0.001)\n",
        "\n",
        "# Used for getting max_depth\n",
        "# grid = {'C' : [1e2, 5e2, 1e3, 5e3, 1e4, 5e4],\n",
        "#         'gamma' : [5e-3, 1e-3, 5e-4, 1e-4]}\n",
        "# grid_search = GridSearchCV(svc, grid)\n",
        "# grid_search.fit(x_train, y_train)\n",
        "# grid_search.best_estimator_"
      ],
      "execution_count": 0,
      "outputs": []
    },
    {
      "cell_type": "code",
      "metadata": {
        "id": "YF6A5mDq_9G-",
        "colab_type": "code",
        "colab": {
          "base_uri": "https://localhost:8080/",
          "height": 50
        },
        "outputId": "f201b0a9-b9dd-4b28-b659-1b53ac00bd3f"
      },
      "source": [
        "svc.fit(x_train, y_train)\n",
        "print(\"Score on training data: \" + str(svc.score(x_train, y_train)))\n",
        "print(\"Score on testing data: \" + str(svc.score(x_test, y_test)))"
      ],
      "execution_count": 15,
      "outputs": [
        {
          "output_type": "stream",
          "text": [
            "Score on training data: 1.0\n",
            "Score on testing data: 0.83\n"
          ],
          "name": "stdout"
        }
      ]
    },
    {
      "cell_type": "markdown",
      "metadata": {
        "id": "mROKzkRvDFg8",
        "colab_type": "text"
      },
      "source": [
        "> Accuracy of **0.838** on **RandomForestClassifier**\n",
        "\n",
        "> Accuracy of **0.834** on **MultinomialNB**\n",
        "\n",
        "> Accuracy of **0.83** on **SVC**"
      ]
    }
  ]
}